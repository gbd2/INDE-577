{
 "cells": [
  {
   "cell_type": "markdown",
   "metadata": {},
   "source": [
    "## Ensemble Learning\n",
    "#### Gavin Daves, Rice University\n",
    "#### INDE 577, Dr. Randy Davila\n",
    "\n",
    "In this notebook, we will utilize Ensemble Methods in Python and use the model(s) we create on the Spotify dataset."
   ]
  },
  {
   "cell_type": "code",
   "execution_count": 1,
   "metadata": {},
   "outputs": [],
   "source": [
    "# Imports\n",
    "\n",
    "import numpy as np\n",
    "import pandas as pd\n",
    "import matplotlib.pyplot as plt\n",
    "import seaborn as sns\n",
    "\n",
    "import sys\n",
    "from sklearn.model_selection import train_test_split\n",
    "\n",
    "sns.set_theme()"
   ]
  },
  {
   "cell_type": "code",
   "execution_count": 2,
   "metadata": {},
   "outputs": [
    {
     "data": {
      "text/plain": [
       "Index(['Unnamed: 0', 'track_id', 'artists', 'album_name', 'track_name',\n",
       "       'popularity', 'duration_ms', 'explicit', 'danceability', 'energy',\n",
       "       'key', 'loudness', 'mode', 'speechiness', 'acousticness',\n",
       "       'instrumentalness', 'liveness', 'valence', 'tempo', 'time_signature',\n",
       "       'track_genre'],\n",
       "      dtype='object')"
      ]
     },
     "execution_count": 2,
     "metadata": {},
     "output_type": "execute_result"
    }
   ],
   "source": [
    "# Loading the data\n",
    "\n",
    "# Add the top-level directory to the system path\n",
    "sys.path.append('../../')\n",
    "\n",
    "# Load the data\n",
    "import clean_data as sd\n",
    "\n",
    "df = sd.get_df()\n",
    "\n",
    "df.columns"
   ]
  },
  {
   "cell_type": "code",
   "execution_count": 15,
   "metadata": {},
   "outputs": [
    {
     "name": "stdout",
     "output_type": "stream",
     "text": [
      "Mean Squared Error: 0.039782269558645535\n",
      "R2 Score: 0.4246333682874872\n"
     ]
    }
   ],
   "source": [
    "# Build the Random Forest Regressor\n",
    "from sklearn.ensemble import RandomForestRegressor\n",
    "from sklearn.model_selection import train_test_split\n",
    "from sklearn.metrics import mean_squared_error, r2_score\n",
    "\n",
    "\n",
    "# Use a sample of the data for quicker experimentation\n",
    "sample_df = df.sample(frac=0.1, random_state=42)\n",
    "\n",
    "X = sample_df[['danceability', 'energy', 'loudness', 'speechiness', 'acousticness',\n",
    "               'instrumentalness', 'liveness', 'popularity']]\n",
    "y = sample_df['valence']\n",
    "\n",
    "# Splitting data\n",
    "X_train, X_test, y_train, y_test = train_test_split(X, y, test_size=0.25, random_state=42)\n",
    "\n",
    "# Simplified Random Forest model for faster execution\n",
    "clf = RandomForestRegressor(n_estimators=50, max_depth=10, random_state=42, n_jobs=-1)\n",
    "\n",
    "# Train the model\n",
    "\n",
    "clf = RandomForestRegressor(random_state=42)\n",
    "clf.fit(X_train, y_train)\n",
    "\n",
    "# Predict the test set\n",
    "\n",
    "y_pred = clf.predict(X_test)\n",
    "\n",
    "print(f'Mean Squared Error: {mean_squared_error(y_test, y_pred)}')\n",
    "print(f'R2 Score: {r2_score(y_test, y_pred)}')"
   ]
  },
  {
   "cell_type": "markdown",
   "metadata": {},
   "source": [
    "### Error Analysis\n",
    "\n",
    "The MSE of the model is near zero, meaning this is a good predictor of the data. However, the R-squared score is ~0.42, which is not a great score. This means that the model is not a great predictor of the data."
   ]
  }
 ],
 "metadata": {
  "kernelspec": {
   "display_name": "base",
   "language": "python",
   "name": "python3"
  },
  "language_info": {
   "codemirror_mode": {
    "name": "ipython",
    "version": 3
   },
   "file_extension": ".py",
   "mimetype": "text/x-python",
   "name": "python",
   "nbconvert_exporter": "python",
   "pygments_lexer": "ipython3",
   "version": "3.9.18"
  }
 },
 "nbformat": 4,
 "nbformat_minor": 2
}
