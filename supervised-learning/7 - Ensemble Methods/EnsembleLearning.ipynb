{
 "cells": [
  {
   "cell_type": "markdown",
   "metadata": {},
   "source": [
    "## Ensemble Learning\n",
    "#### Gavin Daves, Rice University\n",
    "#### INDE 577, Dr. Randy Davila\n",
    "\n",
    "In this notebook, we will utilize Ensemble Methods in Python and use the model(s) we create on the Spotify dataset."
   ]
  },
  {
   "cell_type": "code",
   "execution_count": 45,
   "metadata": {},
   "outputs": [],
   "source": [
    "# Imports\n",
    "\n",
    "import numpy as np\n",
    "import pandas as pd\n",
    "import matplotlib.pyplot as plt\n",
    "import seaborn as sns\n",
    "\n",
    "import sys\n",
    "from sklearn.model_selection import train_test_split\n",
    "\n",
    "sns.set_theme()"
   ]
  },
  {
   "cell_type": "code",
   "execution_count": 46,
   "metadata": {},
   "outputs": [
    {
     "data": {
      "text/plain": [
       "Index(['Unnamed: 0', 'track_id', 'artists', 'album_name', 'track_name',\n",
       "       'popularity', 'duration_ms', 'explicit', 'danceability', 'energy',\n",
       "       'key', 'loudness', 'mode', 'speechiness', 'acousticness',\n",
       "       'instrumentalness', 'liveness', 'valence', 'tempo', 'time_signature',\n",
       "       'track_genre'],\n",
       "      dtype='object')"
      ]
     },
     "execution_count": 46,
     "metadata": {},
     "output_type": "execute_result"
    }
   ],
   "source": [
    "# Loading the data\n",
    "\n",
    "# Add the top-level directory to the system path\n",
    "sys.path.append('../../')\n",
    "\n",
    "# Load the data\n",
    "import clean_data as sd\n",
    "\n",
    "df = sd.get_df()"
   ]
  },
  {
   "cell_type": "markdown",
   "metadata": {},
   "source": [
    "### Random Forest Regressor Application Background\n",
    "\n",
    "Music can evoke many emotions. Despite the old saying \"there's two types of songs in this world: pirate songs and love songs\", all of us seem to understand that there is more flexibility. That being said, using ensemble learning, I want to attempt to predict the mood of a song (or *valence,* in this case) based on its audio data. I am choosing to utilize a random forest regressor to do so. "
   ]
  },
  {
   "cell_type": "code",
   "execution_count": 47,
   "metadata": {},
   "outputs": [
    {
     "name": "stdout",
     "output_type": "stream",
     "text": [
      "Mean Squared Error: 0.038874689885763924\n",
      "R2 Score: 0.4419615908466197\n"
     ]
    }
   ],
   "source": [
    "# Build the Random Forest Regressor\n",
    "from sklearn.ensemble import RandomForestRegressor\n",
    "from sklearn.model_selection import train_test_split\n",
    "from sklearn.metrics import mean_squared_error, r2_score\n",
    "\n",
    "X = df[['danceability', 'energy', 'loudness', 'speechiness', 'acousticness',\n",
    "               'instrumentalness', 'liveness']]\n",
    "y = df['valence']\n",
    "\n",
    "# Splitting data\n",
    "X_train, X_test, y_train, y_test = train_test_split(X, y, test_size=0.25, random_state=42)\n",
    "\n",
    "# Create the model\n",
    "model = RandomForestRegressor(n_estimators=50, max_depth=10, random_state=42, n_jobs=-1)\n",
    "\n",
    "# Train the model\n",
    "\n",
    "model = RandomForestRegressor(random_state=42)\n",
    "model.fit(X_train, y_train)\n",
    "\n",
    "# Predict the test set\n",
    "\n",
    "y_pred = model.predict(X_test)\n",
    "\n",
    "print(f'Mean Squared Error: {mean_squared_error(y_test, y_pred)}')\n",
    "print(f'R2 Score: {r2_score(y_test, y_pred)}')"
   ]
  },
  {
   "cell_type": "markdown",
   "metadata": {},
   "source": [
    "### Regressor Error Analysis\n",
    "\n",
    "\n",
    "The MSE of the model is near zero, meaning the model is performing well in minimizing errors. However, the R-squared score is less than .5, which is not a great score. This means that the model is not explaining a significant portion of the variance in the data. So, this model may not be the best for predicting the valence of a song if noise is wanted to be captured."
   ]
  },
  {
   "cell_type": "markdown",
   "metadata": {},
   "source": [
    "### Random Forest Classifier Background\n",
    "\n",
    "Let's revisit the problem we addressed in the Neural Networks Notebook. We picked different genres: Bluegrass, Heavy Metal, Hip-Hop, and Alternative Rock, in hopes to be able to classify songs of these genres based on their audio statistics with accuracy. Let's utilize a Random Forest Classifier to see if we can do even better this time."
   ]
  },
  {
   "cell_type": "code",
   "execution_count": 48,
   "metadata": {},
   "outputs": [
    {
     "name": "stdout",
     "output_type": "stream",
     "text": [
      "Accuracy: 0.9288343558282208\n",
      "              precision    recall  f1-score   support\n",
      "\n",
      "           0       0.96      0.96      0.96       267\n",
      "           1       0.96      0.95      0.96       220\n",
      "           2       0.88      0.89      0.88       144\n",
      "           3       0.88      0.89      0.88       184\n",
      "\n",
      "    accuracy                           0.93       815\n",
      "   macro avg       0.92      0.92      0.92       815\n",
      "weighted avg       0.93      0.93      0.93       815\n",
      "\n"
     ]
    },
    {
     "data": {
      "image/png": "[encoded data removed]",
      "text/plain": [
       "<Figure size 640x480 with 2 Axes>"
      ]
     },
     "metadata": {},
     "output_type": "display_data"
    }
   ],
   "source": [
    "from sklearn.ensemble import RandomForestClassifier\n",
    "\n",
    "bluegrass = df[df['track_genre'] == 'bluegrass']\n",
    "heavy = df[df['track_genre'] == 'heavy-metal']\n",
    "hiphop = df[df['track_genre'] == 'hip-hop']\n",
    "altrock = df[df['track_genre'] == 'alt-rock']\n",
    "comb = pd.concat([bluegrass, heavy, hiphop, altrock])\n",
    "\n",
    "# Encode the track_genre column\n",
    "\n",
    "comb['track_genre'] = comb['track_genre'].map({'bluegrass': 0, 'heavy-metal': 1, \n",
    "                                               'hip-hop': 2, 'alt-rock': 3})\n",
    "\n",
    "X = comb[['danceability', 'energy', 'loudness', 'speechiness', \n",
    "          'acousticness','valence', 'explicit', 'tempo', 'popularity']]\n",
    "y = comb['track_genre']\n",
    "\n",
    "X_train, X_test, y_train, y_test = train_test_split(X, y, test_size=0.25, random_state=42)\n",
    "\n",
    "model = RandomForestClassifier(random_state=42)\n",
    "\n",
    "model.fit(X_train, y_train)\n",
    "\n",
    "y_pred = model.predict(X_test)\n",
    "\n",
    "from sklearn.metrics import accuracy_score\n",
    "from sklearn.metrics import classification_report, confusion_matrix\n",
    "\n",
    "print(f'Accuracy: {accuracy_score(y_test, y_pred)}')\n",
    "\n",
    "confusion_matrix = pd.crosstab(y_test, y_pred, rownames = ['Actual'], colnames = ['Predicted'])\n",
    "sns.heatmap(confusion_matrix, annot=True, fmt='d')\n",
    "print(classification_report(y_test, y_pred))"
   ]
  },
  {
   "cell_type": "markdown",
   "metadata": {},
   "source": [
    "### Classifier Error Analysis\n",
    "\n",
    "As we see in the accuracy score, the model performed relatively well with an accuracy percent in the low 90s. The accuracy and \"goodness\" of the model is further affirmed in the classification report, where the f1-score for all of the genres is around or above .9. When looking at the confusion matrix, we see that there are some more misclassifications between alt-rock and hip-hop than other misclassifications, which I find quite interesting; as some of my favorite genres of music I consider these genres to be quite distinct. However, this implies that there may be some overlap between the genres, which would provide more reasoning as to why I like both of them. \n",
    "\n",
    "Ultimately, the metrics for accuracy and goodness of the model show that this is an excellent genre classifier."
   ]
  }
 ],
 "metadata": {
  "kernelspec": {
   "display_name": "base",
   "language": "python",
   "name": "python3"
  },
  "language_info": {
   "codemirror_mode": {
    "name": "ipython",
    "version": 3
   },
   "file_extension": ".py",
   "mimetype": "text/x-python",
   "name": "python",
   "nbconvert_exporter": "python",
   "pygments_lexer": "ipython3",
   "version": "3.9.18"
  }
 },
 "nbformat": 4,
 "nbformat_minor": 2
}
